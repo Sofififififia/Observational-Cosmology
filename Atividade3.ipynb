{
 "cells": [
  {
   "cell_type": "markdown",
   "metadata": {},
   "source": [
    "Gerando calotas:\n"
   ]
  },
  {
   "cell_type": "code",
   "execution_count": null,
   "metadata": {},
   "outputs": [],
   "source": [
    "import pandas as pd\n",
    "import numpy as np\n",
    "import healpy as hp\n",
    "import astropy.units as u\n",
    "from astropy.coordinates import SkyCoord, CartesianRepresentation, Galactic,  cartesian_to_spherical\n",
    "import matplotlib.pyplot as plt\n",
    "from healpy import projview\n",
    "\n",
    "\n",
    "import pyccl as ccl\n",
    "from scipy import integrate\n",
    "import pyccl as ccl\n",
    "from scipy.optimize import curve_fit\n",
    "from scipy.integrate import quad\n",
    "\n",
    "#Estamos aqui utilizando o catálogo Patheon+ (https://arxiv.org/pdf/2202.04077)\n"
   ]
  },
  {
   "cell_type": "code",
   "execution_count": null,
   "metadata": {},
   "outputs": [],
   "source": [
    "# vamos definir os parâmetros de pixelização (nside=2 produz 48 calotas esféricas)\n",
    "\n",
    "nside = 2\n",
    "npix = hp.nside2npix(nside)"
   ]
  },
  {
   "cell_type": "code",
   "execution_count": null,
   "metadata": {},
   "outputs": [],
   "source": [
    "# Vamos obter as coordenadas dos centros dos pixels para nside=2\n",
    "\n",
    "lon, lat = hp.pix2ang(nside, range(npix), lonlat=True)\n",
    "\n",
    "# coordenadas =  hp.pix2ang(nside, range(npix), lonlat=True)\n",
    "# lp = coordenadas[0]\n",
    "# bp = coordenadas[1]\n",
    "\n",
    "galactic_coords = SkyCoord(l=lon, b=lat, frame='galactic', unit='deg')\n",
    "equatorial_coords = galactic_coords.icrs #transform_to('icrs')\n",
    "\n",
    "ra_pixel = equatorial_coords.ra.deg\n",
    "dec_pixel = equatorial_coords.dec.deg"
   ]
  },
  {
   "cell_type": "code",
   "execution_count": null,
   "metadata": {},
   "outputs": [],
   "source": [
    "#VER PIXELS em coordenadas galácticas\n",
    "\n",
    "coord_pixel = SkyCoord(ra=ra_pixel, dec=dec_pixel, frame='icrs', unit='deg')\n",
    "coordenadas_pixel = coord_pixel.galactic\n",
    "\n",
    "l_pixel = (coordenadas_pixel.l.deg)*np.pi/180\n",
    "b_pixel = (coordenadas_pixel.b.deg)*np.pi/180"
   ]
  },
  {
   "cell_type": "code",
   "execution_count": null,
   "metadata": {},
   "outputs": [],
   "source": [
    "l_pixel[l_pixel > np.pi] = l_pixel[l_pixel > np.pi] - 2*np.pi\n",
    "l_pixel[l_pixel < np.pi] = l_pixel[l_pixel < np.pi]*(-1)"
   ]
  },
  {
   "cell_type": "code",
   "execution_count": null,
   "metadata": {},
   "outputs": [],
   "source": [
    "#conferir se está fazendo correto\n",
    "\n",
    "figure = plt.figure(figsize=(10.0, 8.0))\n",
    "ax = figure.add_subplot(111, projection='mollweide')\n",
    "plt.scatter(l_pixel[20], b_pixel[20], s=8, color='blue', marker ='*')\n",
    "plt.xticks(ticks=np.radians([-150, -120, -90, -60, -30, 0, 30, 60, 90, 120, 150]), labels=['150°', '120°', '90°', '60°', '30°', '0°', '330°', '300°', '270°', '240°', '210°'])\n",
    "plt.grid()\n",
    "plt.show()"
   ]
  },
  {
   "cell_type": "code",
   "execution_count": null,
   "metadata": {},
   "outputs": [],
   "source": [
    "#USANDO csv\n",
    "data = pd.read_csv('/home/sofia/Documentos/Pantheon/Pantheon+SH0ES.csv', sep=' ')\n",
    "data\n"
   ]
  },
  {
   "cell_type": "code",
   "execution_count": null,
   "metadata": {},
   "outputs": [],
   "source": [
    "Ind = []\n",
    "for i in range(1701):\n",
    "    Ind.append(i)"
   ]
  },
  {
   "cell_type": "code",
   "execution_count": null,
   "metadata": {},
   "outputs": [],
   "source": [
    "data['Indice'] = Ind"
   ]
  },
  {
   "cell_type": "code",
   "execution_count": null,
   "metadata": {},
   "outputs": [],
   "source": [
    "data"
   ]
  },
  {
   "cell_type": "code",
   "execution_count": null,
   "metadata": {},
   "outputs": [],
   "source": [
    "ra_data = data['RA']* np.pi / 180\n",
    "dec_data = data['DEC']* np.pi / 180"
   ]
  },
  {
   "cell_type": "code",
   "execution_count": null,
   "metadata": {},
   "outputs": [],
   "source": [
    "# Raio do círculo em graus\n",
    "raio = 90\n",
    "\n",
    "n = 47\n",
    "cont = 0\n",
    "\n",
    "while cont <= n:\n",
    "    \n",
    "    # Coordenadas do centro do círculo/pixel em radianos\n",
    "    ra_centro = ra_pixel[cont]* np.pi / 180\n",
    "    dec_centro = dec_pixel[cont]* np.pi / 180\n",
    "    \n",
    "    # Usando a fórmula de Haversine\n",
    "    delta_ra = ra_data - ra_centro\n",
    "    delta_dec = dec_data - dec_centro\n",
    "    \n",
    "    a = np.sin(delta_dec / 2)**2 + np.cos(dec_centro) * np.cos(dec_data) * np.sin(delta_ra / 2)**2\n",
    "    c = 2 * np.arcsin(np.sqrt(a))\n",
    "    \n",
    "    distancia = np.degrees(c)\n",
    "    objetos = data[distancia <= raio]\n",
    "    \n",
    "    local = f'/home/sofia/Documentos/Pantheon/Atividade 3/Hemisferios/{cont:03d}.csv'\n",
    "    objetos.to_csv(local, index=False)\n",
    " \n",
    "    cont += 1"
   ]
  },
  {
   "cell_type": "code",
   "execution_count": null,
   "metadata": {},
   "outputs": [],
   "source": [
    "#Vamos visualizar cada hemisfério\n",
    "\n",
    "hemisphere = pd.read_csv('/home/sofia/Documentos/Pantheon/Atividade 3/Hemisferios/036.csv')\n",
    "\n",
    "rao = hemisphere['RA']\n",
    "deco = hemisphere['DEC']\n",
    "\n",
    "coord = SkyCoord(ra=rao, dec=deco, frame='icrs', unit='deg')\n",
    "coordenadas = coord.galactic\n",
    "\n",
    "lv = (coordenadas.l.deg)*np.pi/180\n",
    "bv = (coordenadas.b.deg)*np.pi/180"
   ]
  },
  {
   "cell_type": "code",
   "execution_count": null,
   "metadata": {},
   "outputs": [],
   "source": [
    "lv[lv > np.pi] = lv[lv > np.pi] - 2*np.pi\n",
    "lv[lv < np.pi] = lv[lv < np.pi]*(-1)"
   ]
  },
  {
   "cell_type": "code",
   "execution_count": null,
   "metadata": {},
   "outputs": [],
   "source": [
    "figure = plt.figure(figsize=(10.0, 8.0))\n",
    "ax = figure.add_subplot(111, projection='mollweide')\n",
    "plt.scatter(lv, bv, s=2, color='darkviolet', marker ='*')\n",
    "plt.xticks(ticks=np.radians([-150, -120, -90, -60, -30, 0, 30, 60, 90, 120, 150]), labels=['150°', '120°', '90°', '60°', '30°', '0°', '330°', '300°', '270°', '240°', '210°'])\n",
    "plt.grid()\n",
    "plt.show()"
   ]
  },
  {
   "cell_type": "markdown",
   "metadata": {},
   "source": [
    "Criando mapa de número de supernovas:\n"
   ]
  },
  {
   "cell_type": "code",
   "execution_count": null,
   "metadata": {},
   "outputs": [],
   "source": [
    "n=47\n",
    "cont=0\n",
    "\n",
    "número = []\n",
    "while cont <= n:\n",
    "    local = f'/home/sofia/Documentos/Pantheon/Atividade 3/Hemisferios/{cont:03d}.csv'\n",
    "    hemis = pd.read_csv(local)\n",
    "    num = len(hemis)\n",
    "      \n",
    "    número.append(num)\n",
    "    \n",
    "    cont = cont + 1"
   ]
  },
  {
   "cell_type": "code",
   "execution_count": null,
   "metadata": {},
   "outputs": [],
   "source": [
    "valores_pix = número\n",
    "\n",
    "nside = 2\n",
    "npix = hp.nside2npix(nside) \n",
    "\n",
    "#criar um mapa vazio e atribuir os valores de números a cada pixel dele\n",
    "hp_map = np.zeros(npix)\n",
    "hp_map[:len(valores_pix)] = valores_pix\n",
    "\n",
    "hp.write_map('/home/sofia/Documentos/Pantheon/Atividade 3/Hemisferios/number_map.fits', hp_map, overwrite=True)"
   ]
  },
  {
   "cell_type": "code",
   "execution_count": null,
   "metadata": {},
   "outputs": [],
   "source": [
    "mapa_num = hp.read_map('/home/sofia/Documentos/Pantheon/Atividade 3/Hemisferios/number_map.fits')"
   ]
  },
  {
   "cell_type": "code",
   "execution_count": null,
   "metadata": {},
   "outputs": [],
   "source": [
    "fontsize = {\n",
    "\"xlabel\": 15,           # Tamanho da fonte do rótulo do eixo x\n",
    "\"ylabel\": 15,           # Tamanho da fonte do rótulo do eixo y\n",
    "\"title\": 20,            # Tamanho da fonte do título\n",
    "\"xtick_label\": 15,      # Tamanho da fonte dos rótulos do eixo x\n",
    "\"ytick_label\": 15,      # Tamanho da fonte dos rótulos do eixo y\n",
    "\"cbar_label\": 15,       # Tamanho da fonte da legenda da barra de cores\n",
    "\"cbar_tick_label\": 15   # Tamanho da fonte dos rótulos da barra de cores\n",
    "}"
   ]
  },
  {
   "cell_type": "code",
   "execution_count": null,
   "metadata": {},
   "outputs": [],
   "source": [
    "projview(hp_map,\n",
    "coord=[\"G\"],\n",
    "norm=\"hist\",\n",
    "cmap='plasma',\n",
    "title='Supernovae number',\n",
    "graticule=True,\n",
    "graticule_labels=True,\n",
    "longitude_grid_spacing=30,\n",
    "projection_type=\"mollweide\",\n",
    "fontsize=fontsize)\n",
    "plt.show()"
   ]
  },
  {
   "cell_type": "markdown",
   "metadata": {},
   "source": [
    "Atividade 3) \n",
    "\n",
    "Fazendo ajuste da curva para cada hemisfério gerado (Nside=2, 48 hemisférios) e obter os parâmetros H0 e Omega_m.\n",
    "Vamos começar com o modelo padrão LCDM e utilizar os demais parâmetros a partir dos dados de Plank: (https://www.aanda.org/articles/aa/pdf/2020/09/aa33910-18.pdf).\n"
   ]
  },
  {
   "cell_type": "markdown",
   "metadata": {},
   "source": [
    "(i) Integral:\n",
    "\n",
    "Distância de Luminosidade:\n",
    "$$ m - M = 5 \\cdot \\log_{10}{d_L} + 25 $$\n",
    "\n",
    "E sabemos que (comóvel)\n",
    "$$ D_L(z) = \\frac{c}{H0}(1+z) \\int^{z}_{0} \\frac{c \\, dz'}{H(z')} $$\n",
    "\n",
    "Onde \n",
    "\n",
    "$$H(z) = H_0 \\sqrt{\\Omega_m (1+z)^3 + \\Omega_k (1+z)^2 + \\Omega_\\Lambda} $$\n",
    "\n",
    "E em uma cosmologia $\\Lambda CDM$, temos\n",
    "\n",
    "$$\\Omega_\\Lambda = 1 - \\Omega_m$$ \n",
    "e\n",
    " $$\\Omega_k = 0$$\n"
   ]
  },
  {
   "cell_type": "markdown",
   "metadata": {},
   "source": [
    "Então, \n",
    "$$H(z) = H_0 \\sqrt{\\Omega_m (1+z)^3 + 1 - \\Omega_m} $$\n"
   ]
  },
  {
   "cell_type": "code",
   "execution_count": null,
   "metadata": {},
   "outputs": [],
   "source": [
    "dados = pd.read_csv('/home/sofia/Documentos/Pantheon/Pantheon+SH0ES.csv', sep=' ')\n",
    "Ind = []\n",
    "for i in range(len(dados)):\n",
    "    Ind.append(i)\n",
    "    \n",
    "dados['Indice'] = Ind\n",
    "data = dados[(dados['zCMB'] >= 0.01)]\n",
    "\n",
    "zCMB = np.array(data['zCMB'])\n",
    "MU_SH0ES = np.array(data['MU_SH0ES'])\n",
    "index = np.array(data['Indice'])\n",
    "\n",
    "cove = np.genfromtxt('/home/sofia/Documentos/Pantheon/Pantheon+SH0ES_STAT+SYS.cov', skip_header=1)\n",
    "cov = np.reshape(cove, (1701, 1701))"
   ]
  },
  {
   "cell_type": "code",
   "execution_count": null,
   "metadata": {},
   "outputs": [],
   "source": [
    "def mu_fit(z, H0, Om):\n",
    "    c = 299793.458\n",
    "    Om_lamb = 1 - Om\n",
    "\n",
    "    def integrando(z):\n",
    "        return 1 / np.sqrt(Om * (1 + z)**3 + Om_lamb)\n",
    "\n",
    "    mu_values = []\n",
    "\n",
    "    for z_val in z:\n",
    "        I, _ = integrate.quad(integrando, 0, z_val) \n",
    "        dL = (c / H0) * (1 + z_val) * I\n",
    "        mu = 5 * np.log10(dL) + 25\n",
    "        mu_values.append(mu)\n",
    "\n",
    "    return np.array(mu_values)"
   ]
  },
  {
   "cell_type": "code",
   "execution_count": null,
   "metadata": {},
   "outputs": [],
   "source": [
    "I = np.int64(index)\n",
    "E = cov[np.ix_(I, I)]\n",
    "\n",
    "p0 = [70, 0.3]\n",
    "\n",
    "curve, cove = curve_fit(mu_fit, zCMB, MU_SH0ES, p0=p0, sigma=E, method='trf')"
   ]
  },
  {
   "cell_type": "code",
   "execution_count": null,
   "metadata": {},
   "outputs": [],
   "source": [
    "curve"
   ]
  },
  {
   "cell_type": "code",
   "execution_count": null,
   "metadata": {},
   "outputs": [],
   "source": [
    "index = []\n",
    "zCMB = []\n",
    "MU_SHOES = []\n",
    "\n",
    "for i in range(48):\n",
    "    di = f'/home/sofia/Documentos/Pantheon/Atividade 3/Hemisferios/{i:03d}.csv'\n",
    "\n",
    "    hemis = pd.read_csv(di)\n",
    "    index.append(hemis['Indice'].values)\n",
    "    zCMB.append(hemis['zCMB'].values)\n",
    "    MU_SHOES.append(hemis['MU_SH0ES'].values)"
   ]
  },
  {
   "cell_type": "code",
   "execution_count": null,
   "metadata": {},
   "outputs": [],
   "source": [
    "cove = np.genfromtxt('/home/sofia/Documentos/Pantheon/Pantheon+SH0ES_STAT+SYS.cov', skip_header=1)\n",
    "cov = np.reshape(cove, (1701, 1701))"
   ]
  },
  {
   "cell_type": "code",
   "execution_count": null,
   "metadata": {},
   "outputs": [],
   "source": [
    "H0 = []\n",
    "Om = []\n",
    "\n",
    "for i in range(48):\n",
    "    I_h = np.int64(index[i])\n",
    "    E_h = cov[np.ix_(I_h, I_h)]\n",
    "    \n",
    "    p0 = [70, 0.3]\n",
    "\n",
    "    curve, cove = curve_fit(mu_fit, zCMB[i], MU_SHOES[i], p0=p0, sigma=E_h, method='trf')\n",
    "    print(curve)\n",
    "    H0.append(curve[1])\n",
    "    Om.append(curve[0])"
   ]
  },
  {
   "cell_type": "code",
   "execution_count": null,
   "metadata": {},
   "outputs": [],
   "source": [
    "H0_pix = H0\n",
    "Om_pix = Om\n",
    "\n",
    "nside = 2  \n",
    "npix = hp.nside2npix(nside) \n",
    "\n",
    "#criar um mapa vazio e atribuir os valores de números a cada pixel dele\n",
    "H0_map = np.zeros(npix)\n",
    "H0_map[:len(H0_pix)] = H0_pix\n",
    "\n",
    "Om_map = np.zeros(npix)\n",
    "Om_map[:len(Om_pix)] = Om_pix\n",
    "\n",
    "hp.write_map('/home/sofia/Documentos/Pantheon/Atividade 3/H0_map_integral.fits', H0_map, overwrite=True)\n",
    "hp.write_map('/home/sofia/Documentos/Pantheon/Atividade 3/Om_map_integral.fits', Om_map, overwrite=True)"
   ]
  },
  {
   "cell_type": "code",
   "execution_count": null,
   "metadata": {},
   "outputs": [],
   "source": [
    "fontsize = {\n",
    "\"xlabel\": 15,           # Tamanho da fonte do rótulo do eixo x\n",
    "\"ylabel\": 15,           # Tamanho da fonte do rótulo do eixo y\n",
    "\"title\": 20,            # Tamanho da fonte do título\n",
    "\"xtick_label\": 15,      # Tamanho da fonte dos rótulos do eixo x\n",
    "\"ytick_label\": 15,      # Tamanho da fonte dos rótulos do eixo y\n",
    "\"cbar_label\": 15,       # Tamanho da fonte da legenda da barra de cores\n",
    "\"cbar_tick_label\": 15   # Tamanho da fonte dos rótulos da barra de cores\n",
    "}"
   ]
  },
  {
   "cell_type": "code",
   "execution_count": null,
   "metadata": {},
   "outputs": [],
   "source": [
    "projview(H0_map,\n",
    "coord=[\"G\"],\n",
    "norm=\"hist\",\n",
    "cmap='jet',\n",
    "graticule=True,\n",
    "graticule_labels=True,\n",
    "longitude_grid_spacing=30,\n",
    "projection_type=\"mollweide\",\n",
    "fontsize=fontsize)\n",
    "\n",
    "projview(Om_map,\n",
    "coord=[\"G\"],\n",
    "norm=\"hist\",\n",
    "cmap='jet',\n",
    "graticule=True,\n",
    "graticule_labels=True,\n",
    "longitude_grid_spacing=30,\n",
    "projection_type=\"mollweide\",\n",
    "fontsize=fontsize)\n",
    "\n",
    "plt.show()"
   ]
  },
  {
   "cell_type": "markdown",
   "metadata": {},
   "source": [
    "(ii)Pyccl: \n",
    "\n",
    "(vide https://ccl.readthedocs.io/en/latest/api/pyccl.cosmology.html#pyccl.cosmology.Cosmology). "
   ]
  },
  {
   "cell_type": "code",
   "execution_count": null,
   "metadata": {},
   "outputs": [],
   "source": [
    "dados = pd.read_csv('/home/sofia/Documentos/Pantheon/Pantheon+SH0ES.csv', sep=' ')\n",
    "\n",
    "Ind = []\n",
    "for i in range(len(dados)):\n",
    "    Ind.append(i)\n",
    "    \n",
    "dados['Indice'] = Ind\n",
    "\n",
    "data = dados[(dados['zCMB'] >= 0.01)]\n",
    "\n",
    "zCMB = np.array(data['zCMB'])\n",
    "MU_SHOES = np.array(data['MU_SH0ES'])\n",
    "index = np.array(data['Indice'])\n",
    "\n",
    "cove = np.genfromtxt('/home/sofia/Documentos/Pantheon/Pantheon+SH0ES_STAT+SYS.cov', skip_header=1)\n",
    "cov = np.reshape(cove, (1701, 1701))"
   ]
  },
  {
   "cell_type": "code",
   "execution_count": null,
   "metadata": {},
   "outputs": [],
   "source": [
    "def mu_fit(z, Omc, h):\n",
    "    \n",
    "    # Omega_C é a densidade de matéria escura\n",
    "    # Omega_b é a densidade de matéria bariônica\n",
    "    # h é o parâmetro de Hubble reduzido\n",
    "    # sigma8 é a amplitude das flutuações de densidade em escalas de 8Mpc\n",
    "    # n_s é o índice de espectro das perturbações primordiais\n",
    "    # se tratram de valores típicos de um modelo cosmológico padrão (LCDM - Lambda Cold Dark Matter)\n",
    "    cosmo = ccl.Cosmology(\n",
    "        Omega_c=Omc, Omega_b=0.0494, h=h, sigma8=0.8120, n_s=0.9649)\n",
    "    \n",
    "    #a é o fator de escala\n",
    "    a = 1. / (1. + z)\n",
    "    \n",
    "    return ccl.distance_modulus(cosmo, a)"
   ]
  },
  {
   "cell_type": "code",
   "execution_count": null,
   "metadata": {},
   "outputs": [],
   "source": [
    "#convertendo index para o tipo int64 \n",
    "I = np.int64(index)\n",
    "#selecionando a submatriz de covariância correspondente\n",
    "E = cov[np.ix_(I, I)]\n",
    "curve, cove = curve_fit(mu_fit, zCMB, MU_SHOES, sigma=E, method='trf')"
   ]
  },
  {
   "cell_type": "code",
   "execution_count": null,
   "metadata": {},
   "outputs": [],
   "source": [
    "curve"
   ]
  },
  {
   "cell_type": "code",
   "execution_count": null,
   "metadata": {},
   "outputs": [],
   "source": [
    "final = curve[0],curve[1]*100"
   ]
  },
  {
   "cell_type": "code",
   "execution_count": null,
   "metadata": {},
   "outputs": [],
   "source": [
    "final"
   ]
  },
  {
   "cell_type": "markdown",
   "metadata": {},
   "source": [
    "(iii) Fazendo o best fit dos 48 hemisférios:"
   ]
  },
  {
   "cell_type": "code",
   "execution_count": null,
   "metadata": {},
   "outputs": [],
   "source": [
    "dados = pd.read_csv('/home/sofia/Documentos/Pantheon/Pantheon+SH0ES.csv', sep=' ')\n",
    "Ind = []\n",
    "for i in range(len(dados)):\n",
    "    Ind.append(i)\n",
    "    \n",
    "dados['Indice'] = Ind\n",
    "\n",
    "data = dados[(dados['zCMB'] >= 0.01)]"
   ]
  },
  {
   "cell_type": "code",
   "execution_count": null,
   "metadata": {},
   "outputs": [],
   "source": [
    "data"
   ]
  },
  {
   "cell_type": "code",
   "execution_count": null,
   "metadata": {},
   "outputs": [],
   "source": [
    "index = []\n",
    "zCMB = []\n",
    "MU_SHOES = []\n",
    "\n",
    "for i in range(48):\n",
    "    di = f'/home/sofia/Documentos/Pantheon/Atividade 3/Hemisferios/{i:03d}.csv'\n",
    "    hemis = pd.read_csv(di)\n",
    "    index.append(hemis['Indice'].values)\n",
    "    zCMB.append(hemis['zCMB'].values)\n",
    "    MU_SHOES.append(hemis['MU_SH0ES'].values)"
   ]
  },
  {
   "cell_type": "code",
   "execution_count": null,
   "metadata": {},
   "outputs": [],
   "source": [
    "index"
   ]
  },
  {
   "cell_type": "code",
   "execution_count": null,
   "metadata": {},
   "outputs": [],
   "source": [
    "cove = np.genfromtxt('/home/sofia/Documentos/Pantheon/Pantheon+SH0ES_STAT+SYS.cov', skip_header=1)\n",
    "cov = np.reshape(cove, (1701, 1701))"
   ]
  },
  {
   "cell_type": "code",
   "execution_count": null,
   "metadata": {},
   "outputs": [],
   "source": [
    "def mu_fit(z, Omc, h):\n",
    "    \n",
    "    cosmo = ccl.Cosmology(\n",
    "        Omega_c=Omc, Omega_b=0.0494, h=h, sigma8=0.8120, n_s=0.9649)\n",
    "    \n",
    "    a = 1. / (1. + z)\n",
    "    \n",
    "    return ccl.distance_modulus(cosmo, a)\n",
    "\n",
    "h0 = []\n",
    "Om = []"
   ]
  },
  {
   "cell_type": "code",
   "execution_count": null,
   "metadata": {},
   "outputs": [],
   "source": [
    "for i in range(48):\n",
    "    I_h = np.int64(index[i])\n",
    "    E_h = cov[np.ix_(I_h, I_h)]\n",
    "    curve, cove = curve_fit(mu_fit, zCMB[i], MU_SHOES[i], sigma=E_h, method='trf')\n",
    "    h0.append(curve[1])\n",
    "    Om.append(curve[0])"
   ]
  },
  {
   "cell_type": "code",
   "execution_count": null,
   "metadata": {},
   "outputs": [],
   "source": [
    "H0 = 100 * np.array(h0)\n",
    "#H0=h*100 Km/s/Mpc\n",
    "Om_tot = np.array(Om)+0.0494"
   ]
  },
  {
   "cell_type": "code",
   "execution_count": null,
   "metadata": {},
   "outputs": [],
   "source": [
    "print(H0)"
   ]
  },
  {
   "cell_type": "code",
   "execution_count": null,
   "metadata": {},
   "outputs": [],
   "source": [
    "H0_pix = H0\n",
    "Om_pix = Om_tot\n",
    "\n",
    "nside = 2  \n",
    "npix = hp.nside2npix(nside) \n",
    "\n",
    "#criar um mapa vazio e atribuir os valores de números a cada pixel dele\n",
    "H0_map = np.zeros(npix)\n",
    "H0_map[:len(H0_pix)] = H0_pix\n",
    "\n",
    "Om_map = np.zeros(npix)\n",
    "Om_map[:len(Om_pix)] = Om_pix\n",
    "\n",
    "hp.write_map('/home/sofia/Documentos/Pantheon/Atividade 3/H0_map_pyccl.fits', H0_map)\n",
    "hp.write_map('/home/sofia/Documentos/Pantheon/Atividade 3/Om_map_pyccl.fits', Om_map)"
   ]
  },
  {
   "cell_type": "code",
   "execution_count": null,
   "metadata": {},
   "outputs": [],
   "source": [
    "mapa_H0 = hp.read_map('/home/sofia/Documentos/Pantheon/Atividade 3/H0_map_pyccl.fits')\n",
    "mapa_Om = hp.read_map('/home/sofia/Documentos/Pantheon/Atividade 3/Om_map_pyccl.fits')"
   ]
  },
  {
   "cell_type": "code",
   "execution_count": null,
   "metadata": {},
   "outputs": [],
   "source": [
    "fontsize = {\n",
    "\"xlabel\": 15,           # Tamanho da fonte do rótulo do eixo x\n",
    "\"ylabel\": 15,           # Tamanho da fonte do rótulo do eixo y\n",
    "\"title\": 20,            # Tamanho da fonte do título\n",
    "\"xtick_label\": 15,      # Tamanho da fonte dos rótulos do eixo x\n",
    "\"ytick_label\": 15,      # Tamanho da fonte dos rótulos do eixo y\n",
    "\"cbar_label\": 15,       # Tamanho da fonte da legenda da barra de cores\n",
    "\"cbar_tick_label\": 15   # Tamanho da fonte dos rótulos da barra de cores\n",
    "}"
   ]
  },
  {
   "cell_type": "code",
   "execution_count": null,
   "metadata": {},
   "outputs": [],
   "source": [
    "projview(mapa_H0,\n",
    "coord=[\"G\"],\n",
    "norm=\"hist\",\n",
    "cmap='jet',\n",
    "graticule=True,\n",
    "graticule_labels=True,\n",
    "longitude_grid_spacing=30,\n",
    "projection_type=\"mollweide\",\n",
    "fontsize=fontsize)\n",
    "\n",
    "projview(mapa_Om,\n",
    "coord=[\"G\"],\n",
    "norm=\"hist\",\n",
    "cmap='jet',\n",
    "graticule=True,\n",
    "graticule_labels=True,\n",
    "longitude_grid_spacing=30,\n",
    "projection_type=\"mollweide\",\n",
    "fontsize=fontsize)\n",
    "\n",
    "plt.show()"
   ]
  }
 ],
 "metadata": {
  "kernelspec": {
   "display_name": "base",
   "language": "python",
   "name": "python3"
  },
  "language_info": {
   "codemirror_mode": {
    "name": "ipython",
    "version": 3
   },
   "file_extension": ".py",
   "mimetype": "text/x-python",
   "name": "python",
   "nbconvert_exporter": "python",
   "pygments_lexer": "ipython3",
   "version": "3.11.5"
  }
 },
 "nbformat": 4,
 "nbformat_minor": 2
}
